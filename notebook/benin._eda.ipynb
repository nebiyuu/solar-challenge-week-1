{
 "cells": [
  {
   "cell_type": "code",
   "execution_count": 29,
   "id": "c974eae9",
   "metadata": {},
   "outputs": [],
   "source": [
    "import pandas as pd\n",
    "import numpy as np\n",
    "import matplotlib.pyplot as plt   \n",
    "import seaborn as sns"
   ]
  },
  {
   "cell_type": "code",
   "execution_count": 98,
   "id": "67f1855a",
   "metadata": {},
   "outputs": [],
   "source": [
    "# Load the data\n",
    "df = pd.read_csv('../data/benin-malanville.csv')"
   ]
  },
  {
   "cell_type": "code",
   "execution_count": 85,
   "id": "d51de0bb",
   "metadata": {},
   "outputs": [
    {
     "data": {
      "text/html": [
       "<div>\n",
       "<style scoped>\n",
       "    .dataframe tbody tr th:only-of-type {\n",
       "        vertical-align: middle;\n",
       "    }\n",
       "\n",
       "    .dataframe tbody tr th {\n",
       "        vertical-align: top;\n",
       "    }\n",
       "\n",
       "    .dataframe thead th {\n",
       "        text-align: right;\n",
       "    }\n",
       "</style>\n",
       "<table border=\"1\" class=\"dataframe\">\n",
       "  <thead>\n",
       "    <tr style=\"text-align: right;\">\n",
       "      <th></th>\n",
       "      <th>GHI</th>\n",
       "      <th>DNI</th>\n",
       "      <th>DHI</th>\n",
       "      <th>ModA</th>\n",
       "      <th>ModB</th>\n",
       "      <th>Tamb</th>\n",
       "      <th>RH</th>\n",
       "      <th>WS</th>\n",
       "      <th>WSgust</th>\n",
       "      <th>WSstdev</th>\n",
       "      <th>WD</th>\n",
       "      <th>WDstdev</th>\n",
       "      <th>BP</th>\n",
       "      <th>Cleaning</th>\n",
       "      <th>Precipitation</th>\n",
       "      <th>TModA</th>\n",
       "      <th>TModB</th>\n",
       "      <th>Comments</th>\n",
       "    </tr>\n",
       "  </thead>\n",
       "  <tbody>\n",
       "    <tr>\n",
       "      <th>count</th>\n",
       "      <td>525600.000000</td>\n",
       "      <td>525600.000000</td>\n",
       "      <td>525600.000000</td>\n",
       "      <td>525600.000000</td>\n",
       "      <td>525600.000000</td>\n",
       "      <td>525600.000000</td>\n",
       "      <td>525600.000000</td>\n",
       "      <td>525600.000000</td>\n",
       "      <td>525600.000000</td>\n",
       "      <td>525600.000000</td>\n",
       "      <td>525600.000000</td>\n",
       "      <td>525600.000000</td>\n",
       "      <td>525600.000000</td>\n",
       "      <td>525600.000000</td>\n",
       "      <td>525600.000000</td>\n",
       "      <td>525600.000000</td>\n",
       "      <td>525600.000000</td>\n",
       "      <td>0.0</td>\n",
       "    </tr>\n",
       "    <tr>\n",
       "      <th>mean</th>\n",
       "      <td>240.559452</td>\n",
       "      <td>167.187516</td>\n",
       "      <td>115.358961</td>\n",
       "      <td>236.589496</td>\n",
       "      <td>228.883576</td>\n",
       "      <td>28.179683</td>\n",
       "      <td>54.487969</td>\n",
       "      <td>2.121113</td>\n",
       "      <td>2.809195</td>\n",
       "      <td>0.473390</td>\n",
       "      <td>153.435172</td>\n",
       "      <td>8.582407</td>\n",
       "      <td>994.197199</td>\n",
       "      <td>0.000923</td>\n",
       "      <td>0.001905</td>\n",
       "      <td>35.246026</td>\n",
       "      <td>32.471736</td>\n",
       "      <td>NaN</td>\n",
       "    </tr>\n",
       "    <tr>\n",
       "      <th>std</th>\n",
       "      <td>331.131327</td>\n",
       "      <td>261.710501</td>\n",
       "      <td>158.691074</td>\n",
       "      <td>326.894859</td>\n",
       "      <td>316.536515</td>\n",
       "      <td>5.924297</td>\n",
       "      <td>28.073069</td>\n",
       "      <td>1.603466</td>\n",
       "      <td>2.029120</td>\n",
       "      <td>0.273395</td>\n",
       "      <td>102.332842</td>\n",
       "      <td>6.385864</td>\n",
       "      <td>2.474993</td>\n",
       "      <td>0.030363</td>\n",
       "      <td>0.037115</td>\n",
       "      <td>14.807258</td>\n",
       "      <td>12.348743</td>\n",
       "      <td>NaN</td>\n",
       "    </tr>\n",
       "    <tr>\n",
       "      <th>min</th>\n",
       "      <td>-12.900000</td>\n",
       "      <td>-7.800000</td>\n",
       "      <td>-12.600000</td>\n",
       "      <td>0.000000</td>\n",
       "      <td>0.000000</td>\n",
       "      <td>11.000000</td>\n",
       "      <td>2.100000</td>\n",
       "      <td>0.000000</td>\n",
       "      <td>0.000000</td>\n",
       "      <td>0.000000</td>\n",
       "      <td>0.000000</td>\n",
       "      <td>0.000000</td>\n",
       "      <td>985.000000</td>\n",
       "      <td>0.000000</td>\n",
       "      <td>0.000000</td>\n",
       "      <td>9.000000</td>\n",
       "      <td>8.100000</td>\n",
       "      <td>NaN</td>\n",
       "    </tr>\n",
       "    <tr>\n",
       "      <th>25%</th>\n",
       "      <td>-2.000000</td>\n",
       "      <td>-0.500000</td>\n",
       "      <td>-2.100000</td>\n",
       "      <td>0.000000</td>\n",
       "      <td>0.000000</td>\n",
       "      <td>24.200000</td>\n",
       "      <td>28.800000</td>\n",
       "      <td>1.000000</td>\n",
       "      <td>1.300000</td>\n",
       "      <td>0.400000</td>\n",
       "      <td>59.000000</td>\n",
       "      <td>3.700000</td>\n",
       "      <td>993.000000</td>\n",
       "      <td>0.000000</td>\n",
       "      <td>0.000000</td>\n",
       "      <td>24.200000</td>\n",
       "      <td>23.600000</td>\n",
       "      <td>NaN</td>\n",
       "    </tr>\n",
       "    <tr>\n",
       "      <th>50%</th>\n",
       "      <td>1.800000</td>\n",
       "      <td>-0.100000</td>\n",
       "      <td>1.600000</td>\n",
       "      <td>4.500000</td>\n",
       "      <td>4.300000</td>\n",
       "      <td>28.000000</td>\n",
       "      <td>55.100000</td>\n",
       "      <td>1.900000</td>\n",
       "      <td>2.600000</td>\n",
       "      <td>0.500000</td>\n",
       "      <td>181.000000</td>\n",
       "      <td>8.600000</td>\n",
       "      <td>994.000000</td>\n",
       "      <td>0.000000</td>\n",
       "      <td>0.000000</td>\n",
       "      <td>30.000000</td>\n",
       "      <td>28.900000</td>\n",
       "      <td>NaN</td>\n",
       "    </tr>\n",
       "    <tr>\n",
       "      <th>75%</th>\n",
       "      <td>483.400000</td>\n",
       "      <td>314.200000</td>\n",
       "      <td>216.300000</td>\n",
       "      <td>463.700000</td>\n",
       "      <td>447.900000</td>\n",
       "      <td>32.300000</td>\n",
       "      <td>80.100000</td>\n",
       "      <td>3.100000</td>\n",
       "      <td>4.100000</td>\n",
       "      <td>0.600000</td>\n",
       "      <td>235.100000</td>\n",
       "      <td>12.300000</td>\n",
       "      <td>996.000000</td>\n",
       "      <td>0.000000</td>\n",
       "      <td>0.000000</td>\n",
       "      <td>46.900000</td>\n",
       "      <td>41.500000</td>\n",
       "      <td>NaN</td>\n",
       "    </tr>\n",
       "    <tr>\n",
       "      <th>max</th>\n",
       "      <td>1413.000000</td>\n",
       "      <td>952.300000</td>\n",
       "      <td>759.200000</td>\n",
       "      <td>1342.300000</td>\n",
       "      <td>1342.300000</td>\n",
       "      <td>43.800000</td>\n",
       "      <td>100.000000</td>\n",
       "      <td>19.500000</td>\n",
       "      <td>26.600000</td>\n",
       "      <td>4.200000</td>\n",
       "      <td>360.000000</td>\n",
       "      <td>99.400000</td>\n",
       "      <td>1003.000000</td>\n",
       "      <td>1.000000</td>\n",
       "      <td>2.500000</td>\n",
       "      <td>81.000000</td>\n",
       "      <td>72.500000</td>\n",
       "      <td>NaN</td>\n",
       "    </tr>\n",
       "  </tbody>\n",
       "</table>\n",
       "</div>"
      ],
      "text/plain": [
       "                 GHI            DNI            DHI           ModA  \\\n",
       "count  525600.000000  525600.000000  525600.000000  525600.000000   \n",
       "mean      240.559452     167.187516     115.358961     236.589496   \n",
       "std       331.131327     261.710501     158.691074     326.894859   \n",
       "min       -12.900000      -7.800000     -12.600000       0.000000   \n",
       "25%        -2.000000      -0.500000      -2.100000       0.000000   \n",
       "50%         1.800000      -0.100000       1.600000       4.500000   \n",
       "75%       483.400000     314.200000     216.300000     463.700000   \n",
       "max      1413.000000     952.300000     759.200000    1342.300000   \n",
       "\n",
       "                ModB           Tamb             RH             WS  \\\n",
       "count  525600.000000  525600.000000  525600.000000  525600.000000   \n",
       "mean      228.883576      28.179683      54.487969       2.121113   \n",
       "std       316.536515       5.924297      28.073069       1.603466   \n",
       "min         0.000000      11.000000       2.100000       0.000000   \n",
       "25%         0.000000      24.200000      28.800000       1.000000   \n",
       "50%         4.300000      28.000000      55.100000       1.900000   \n",
       "75%       447.900000      32.300000      80.100000       3.100000   \n",
       "max      1342.300000      43.800000     100.000000      19.500000   \n",
       "\n",
       "              WSgust        WSstdev             WD        WDstdev  \\\n",
       "count  525600.000000  525600.000000  525600.000000  525600.000000   \n",
       "mean        2.809195       0.473390     153.435172       8.582407   \n",
       "std         2.029120       0.273395     102.332842       6.385864   \n",
       "min         0.000000       0.000000       0.000000       0.000000   \n",
       "25%         1.300000       0.400000      59.000000       3.700000   \n",
       "50%         2.600000       0.500000     181.000000       8.600000   \n",
       "75%         4.100000       0.600000     235.100000      12.300000   \n",
       "max        26.600000       4.200000     360.000000      99.400000   \n",
       "\n",
       "                  BP       Cleaning  Precipitation          TModA  \\\n",
       "count  525600.000000  525600.000000  525600.000000  525600.000000   \n",
       "mean      994.197199       0.000923       0.001905      35.246026   \n",
       "std         2.474993       0.030363       0.037115      14.807258   \n",
       "min       985.000000       0.000000       0.000000       9.000000   \n",
       "25%       993.000000       0.000000       0.000000      24.200000   \n",
       "50%       994.000000       0.000000       0.000000      30.000000   \n",
       "75%       996.000000       0.000000       0.000000      46.900000   \n",
       "max      1003.000000       1.000000       2.500000      81.000000   \n",
       "\n",
       "               TModB  Comments  \n",
       "count  525600.000000       0.0  \n",
       "mean       32.471736       NaN  \n",
       "std        12.348743       NaN  \n",
       "min         8.100000       NaN  \n",
       "25%        23.600000       NaN  \n",
       "50%        28.900000       NaN  \n",
       "75%        41.500000       NaN  \n",
       "max        72.500000       NaN  "
      ]
     },
     "execution_count": 85,
     "metadata": {},
     "output_type": "execute_result"
    }
   ],
   "source": [
    "# Basic stats (row count,std,mean, min, max,and the percentiles) for numeric columns.\n",
    "df.describe()\n"
   ]
  },
  {
   "cell_type": "code",
   "execution_count": 86,
   "id": "a9b0ea71",
   "metadata": {},
   "outputs": [
    {
     "name": "stdout",
     "output_type": "stream",
     "text": [
      "<class 'pandas.core.frame.DataFrame'>\n",
      "RangeIndex: 525600 entries, 0 to 525599\n",
      "Data columns (total 19 columns):\n",
      " #   Column         Non-Null Count   Dtype  \n",
      "---  ------         --------------   -----  \n",
      " 0   Timestamp      525600 non-null  object \n",
      " 1   GHI            525600 non-null  float64\n",
      " 2   DNI            525600 non-null  float64\n",
      " 3   DHI            525600 non-null  float64\n",
      " 4   ModA           525600 non-null  float64\n",
      " 5   ModB           525600 non-null  float64\n",
      " 6   Tamb           525600 non-null  float64\n",
      " 7   RH             525600 non-null  float64\n",
      " 8   WS             525600 non-null  float64\n",
      " 9   WSgust         525600 non-null  float64\n",
      " 10  WSstdev        525600 non-null  float64\n",
      " 11  WD             525600 non-null  float64\n",
      " 12  WDstdev        525600 non-null  float64\n",
      " 13  BP             525600 non-null  int64  \n",
      " 14  Cleaning       525600 non-null  int64  \n",
      " 15  Precipitation  525600 non-null  float64\n",
      " 16  TModA          525600 non-null  float64\n",
      " 17  TModB          525600 non-null  float64\n",
      " 18  Comments       0 non-null       float64\n",
      "dtypes: float64(16), int64(2), object(1)\n",
      "memory usage: 76.2+ MB\n",
      "Missing values           Missing Values  Percentage\n",
      "Comments          525600       100.0\n"
     ]
    }
   ],
   "source": [
    "#structural summary  for df.info() \n",
    "df.info()\n",
    "#Additional summary of COLUMN WITH >5% missing values\n",
    "missing_values = df.isnull().sum()\n",
    "missing_percent = (missing_values/len(df))*100\n",
    "missing_summary = pd.DataFrame({'Missing Values': missing_values, 'Percentage': missing_percent})\n",
    "missing_summary = missing_summary[missing_summary['Percentage'] > 5]\n",
    "#print the summary\n",
    "print(\"Missing values\",missing_summary)"
   ]
  },
  {
   "cell_type": "code",
   "execution_count": 87,
   "id": "e01ca37e",
   "metadata": {},
   "outputs": [
    {
     "name": "stdout",
     "output_type": "stream",
     "text": [
      "Shape after dropping: (525600, 18)\n"
     ]
    }
   ],
   "source": [
    "#FROM THE ABOVE WE CAN SEE THAT COMMENTS IS EMPTY FOR ALL THE ROWS(100% NULL) \n",
    "#AND THE COLUMN IS NOT NEEDED FOR OUR ANALYSIS THEREFORE WE DROP IT\n",
    "df.drop(columns=['Comments'], inplace=True)\n",
    "print(\"Shape after dropping:\", df.shape)  # Should show (525600, 18) now"
   ]
  },
  {
   "cell_type": "code",
   "execution_count": 89,
   "id": "6d4ff905",
   "metadata": {},
   "outputs": [
    {
     "data": {
      "text/plain": [
       "np.int64(0)"
      ]
     },
     "execution_count": 89,
     "metadata": {},
     "output_type": "execute_result"
    }
   ],
   "source": [
    "#check for duplicates\n",
    "df.duplicated().sum() "
   ]
  },
  {
   "cell_type": "code",
   "execution_count": 90,
   "id": "a746100e",
   "metadata": {},
   "outputs": [
    {
     "name": "stdout",
     "output_type": "stream",
     "text": [
      "Date range: 2021-08-09 00:01:00 to 2022-08-09 00:00:00\n",
      "Time frequency: min\n",
      "datetime64[ns]\n"
     ]
    }
   ],
   "source": [
    "# Convert timestamp if needed\n",
    "df['Timestamp'] = pd.to_datetime(df['Timestamp'])\n",
    "\n",
    "# Check time range and frequency\n",
    "print(\"Date range:\", df['Timestamp'].min(), \"to\", df['Timestamp'].max())\n",
    "print(\"Time frequency:\", pd.infer_freq(df['Timestamp']))\n",
    "# Check if timestamp is properly converted\n",
    "print(df['Timestamp'].dtype)  # Should show: dtype('<M8[ns]')\n",
    "\n"
   ]
  },
  {
   "cell_type": "code",
   "execution_count": 92,
   "id": "60240722",
   "metadata": {},
   "outputs": [],
   "source": [
    "#from df.discribe() we can see that the columns DHI, DNI, GHI, HAVE NEGATIVE VALUES WHICH IS NOT POSSIBLE\n",
    "#THEREFORE WE CAN DROP THE ROWS WITH NEGATIVE VALUES\n",
    "# Create a mask for negative values\n",
    "mask = (df[['DHI', 'DNI', 'GHI']] < 0).any(axis=1)\n",
    "# Drop rows with negative values\n",
    "df[['GHI', 'DNI', 'DHI']] = df[['GHI', 'DNI', 'DHI']].clip(lower=0)\n"
   ]
  },
  {
   "cell_type": "code",
   "execution_count": 93,
   "id": "a9e901e4",
   "metadata": {},
   "outputs": [
    {
     "name": "stdout",
     "output_type": "stream",
     "text": [
      "Outlier counts:\n",
      " GHI         90\n",
      "DNI          2\n",
      "DHI       3889\n",
      "ModA        27\n",
      "ModB        63\n",
      "WS        3109\n",
      "WSgust    3500\n",
      "dtype: int64\n",
      "\n",
      "Sample rows with at least one outlier:\n",
      "               Timestamp     GHI    DNI    DHI    ModA    ModB  Tamb    RH  \\\n",
      "670 2021-08-09 11:11:00   836.0  235.0  610.6   778.8   783.8  30.3  68.2   \n",
      "671 2021-08-09 11:12:00  1274.0  698.8  615.2  1210.3  1210.3  30.1  69.6   \n",
      "672 2021-08-09 11:13:00   938.0  340.1  612.8   891.1   891.1  30.4  68.4   \n",
      "673 2021-08-09 11:14:00   718.5  126.8  593.2   682.6   682.6  30.6  68.2   \n",
      "674 2021-08-09 11:15:00  1349.0  771.8  618.0  1281.5  1281.5  30.9  67.1   \n",
      "\n",
      "      WS  WSgust  WSstdev     WD  WDstdev   BP  Cleaning  Precipitation  \\\n",
      "670  3.2     4.1      0.7  190.5     18.4  999         0            0.0   \n",
      "671  3.4     4.1      0.6  175.8     13.3  999         0            0.0   \n",
      "672  3.4     4.6      0.9  171.5     11.9  999         0            0.0   \n",
      "673  4.7     5.6      0.6  160.7      8.0  999         0            0.0   \n",
      "674  4.0     4.6      0.4  169.1     12.3  999         0            0.0   \n",
      "\n",
      "     TModA  TModB  \n",
      "670   63.0   52.7  \n",
      "671   63.7   53.1  \n",
      "672   65.8   54.3  \n",
      "673   65.4   54.2  \n",
      "674   65.0   53.5  \n"
     ]
    }
   ],
   "source": [
    "#find outliers using Z score >3\n",
    "from scipy.stats import zscore\n",
    "\n",
    "# 1) Pick your columns\n",
    "cols = ['GHI', 'DNI', 'DHI', 'ModA', 'ModB', 'WS', 'WSgust']\n",
    "\n",
    "# 2) Compute Z-scores\n",
    "z = df[cols].apply(zscore)\n",
    "\n",
    "# 3) Flag outliers (|Z| > 3)\n",
    "outliers = (z.abs() > 3)\n",
    "\n",
    "# 4) Count how many outliers per column\n",
    "outlier_counts = outliers.sum()\n",
    "print(\"Outlier counts:\\n\", outlier_counts)\n",
    "\n",
    "# 5) (Optional) See which rows have ANY outlier\n",
    "bad_rows = df[outliers.any(axis=1)]\n",
    "print(\"\\nSample rows with at least one outlier:\\n\", bad_rows.head())\n"
   ]
  },
  {
   "cell_type": "code",
   "execution_count": 96,
   "id": "f75ec1b3",
   "metadata": {},
   "outputs": [
    {
     "name": "stdout",
     "output_type": "stream",
     "text": [
      "                           Timestamp          DHI          GHI          DNI\n",
      "count                           3889  3889.000000  3889.000000  3889.000000\n",
      "mean   2022-02-24 09:59:34.065312256   626.146619   802.809925   173.922705\n",
      "min              2021-08-09 11:11:00   589.400000   598.200000     1.400000\n",
      "25%              2022-02-21 13:58:00   602.900000   710.200000    67.800000\n",
      "50%              2022-03-18 11:47:00   619.500000   796.200000   164.700000\n",
      "75%              2022-04-10 12:16:00   644.300000   882.000000   258.600000\n",
      "max              2022-08-08 12:38:00   759.200000  1352.000000   771.800000\n",
      "std                              NaN    28.135503   117.329331   118.263802\n",
      "\n",
      "DHI > GHI cases: 0\n"
     ]
    }
   ],
   "source": [
    "# Investigate extreme DHI values\n",
    "print(df[outliers['DHI']][['Timestamp','DHI','GHI','DNI']].describe())\n",
    "\n",
    "# Physical sanity check: DHI should always be ≤ GHI\n",
    "invalid_dhi = df[df['DHI'] > df['GHI']]\n",
    "print(f\"\\nDHI > GHI cases: {len(invalid_dhi)}\")"
   ]
  },
  {
   "cell_type": "code",
   "execution_count": 95,
   "id": "b3402bf4",
   "metadata": {},
   "outputs": [],
   "source": [
    "# Where DHI > GHI, cap DHI at 90% of GHI (since some diffuse light must exist)\n",
    "\n",
    "df.loc[df['DHI'] > df['GHI'], 'DHI'] = df['GHI'] * 0.9"
   ]
  },
  {
   "cell_type": "code",
   "execution_count": 97,
   "id": "dfedd4c1",
   "metadata": {},
   "outputs": [
    {
     "name": "stdout",
     "output_type": "stream",
     "text": [
      "       GHI  DNI  DHI\n",
      "count  0.0  0.0  0.0\n",
      "mean   NaN  NaN  NaN\n",
      "std    NaN  NaN  NaN\n",
      "min    NaN  NaN  NaN\n",
      "25%    NaN  NaN  NaN\n",
      "50%    NaN  NaN  NaN\n",
      "75%    NaN  NaN  NaN\n",
      "max    NaN  NaN  NaN\n"
     ]
    }
   ],
   "source": [
    "remaining_issues = df[df['DHI'] > df['GHI']]\n",
    "print(remaining_issues[['GHI','DNI','DHI']].describe())"
   ]
  },
  {
   "cell_type": "code",
   "execution_count": 99,
   "id": "59010526",
   "metadata": {},
   "outputs": [
    {
     "data": {
      "text/plain": [
       "Text(0, 0.5, 'W/m²')"
      ]
     },
     "execution_count": 99,
     "metadata": {},
     "output_type": "execute_result"
    },
    {
     "data": {
      "image/png": "[encoded data removed]",
      "text/plain": [
       "<Figure size 1200x400 with 1 Axes>"
      ]
     },
     "metadata": {},
     "output_type": "display_data"
    }
   ],
   "source": [
    "df.plot(x='Timestamp', y=['GHI','DHI'], figsize=(12,4), alpha=0.5)\n",
    "plt.title('GHI vs DHI After Cleaning')\n",
    "plt.ylabel('W/m²')"
   ]
  },
  {
   "cell_type": "code",
   "execution_count": 74,
   "id": "1d769ecc",
   "metadata": {},
   "outputs": [
    {
     "name": "stdout",
     "output_type": "stream",
     "text": [
      "Nighttime records: 259210\n",
      "DNI at night: count    259210.000000\n",
      "mean          0.000974\n",
      "std           0.039045\n",
      "min           0.000000\n",
      "25%           0.000000\n",
      "50%           0.000000\n",
      "75%           0.000000\n",
      "max           7.900000\n",
      "Name: DNI, dtype: float64\n",
      "DHI at night: count    259210.0\n",
      "mean          0.0\n",
      "std           0.0\n",
      "min           0.0\n",
      "25%           0.0\n",
      "50%           0.0\n",
      "75%           0.0\n",
      "max           0.0\n",
      "Name: DHI, dtype: float64\n"
     ]
    }
   ],
   "source": [
    "# Night should have GHI=0, DNI=0, DHI~0\n",
    "night_mask = (df['GHI'] == 0)\n",
    "print(\"Nighttime records:\", night_mask.sum())\n",
    "\n",
    "# Check if other sensors agree\n",
    "print(\"DNI at night:\", df.loc[night_mask, 'DNI'].describe())\n",
    "print(\"DHI at night:\", df.loc[night_mask, 'DHI'].describe())"
   ]
  }
 ],
 "metadata": {
  "kernelspec": {
   "display_name": "venv3",
   "language": "python",
   "name": "python3"
  },
  "language_info": {
   "codemirror_mode": {
    "name": "ipython",
    "version": 3
   },
   "file_extension": ".py",
   "mimetype": "text/x-python",
   "name": "python",
   "nbconvert_exporter": "python",
   "pygments_lexer": "ipython3",
   "version": "3.11.12"
  }
 },
 "nbformat": 4,
 "nbformat_minor": 5
}
